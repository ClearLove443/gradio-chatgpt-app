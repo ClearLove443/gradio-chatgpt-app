{
 "cells": [
  {
   "cell_type": "code",
   "execution_count": null,
   "metadata": {},
   "outputs": [],
   "source": [
    "import asyncio\n",
    "import os\n",
    "from typing import List, Optional\n",
    "\n",
    "import async_timeout\n",
    "import gradio as gr\n",
    "import httpx\n",
    "from dotenv import load_dotenv\n",
    "from loguru import logger\n",
    "from pydantic import BaseModel\n",
    "\n",
    "load_dotenv()\n",
    "\n",
    "OPENAI_API_KEY = os.getenv(\"OPENAI_API_KEY\")\n",
    "\n",
    "OPENAI_API_BASE = os.getenv(\"OPENAI_API_BASE\")\n",
    "print(OPENAI_API_BASE)"
   ]
  },
  {
   "cell_type": "code",
   "execution_count": null,
   "metadata": {},
   "outputs": [],
   "source": [
    "class Message(BaseModel):\n",
    "    role: str\n",
    "    content: str"
   ]
  },
  {
   "cell_type": "code",
   "execution_count": null,
   "metadata": {},
   "outputs": [],
   "source": [
    "async def make_completion(\n",
    "    messages: List[Message], nb_retries: int = 3, delay: int = 30\n",
    ") -> Optional[str]:\n",
    "    \"\"\"\n",
    "    Sends a request to the ChatGPT API to retrieve a response based on a list of previous messages.\n",
    "    \"\"\"\n",
    "    header = {\n",
    "        \"Content-Type\": \"application/json\",\n",
    "        \"Authorization\": f\"Bearer {OPENAI_API_KEY}\",\n",
    "    }\n",
    "    try:\n",
    "        async with async_timeout.timeout(delay=delay):\n",
    "            async with httpx.AsyncClient(headers=header) as aio_client:\n",
    "                counter = 0\n",
    "                keep_loop = True\n",
    "                while keep_loop:\n",
    "                    logger.debug(f\"Chat/Completions Nb Retries : {counter}\")\n",
    "                    try:\n",
    "                        resp = await aio_client.post(\n",
    "                            # url = \"https://api.openai.com/v1/chat/completions\",\n",
    "                            url=f\"{OPENAI_API_BASE}/chat/completions\",\n",
    "                            json={\"model\": \"gpt-3.5-turbo\", \"messages\": messages},\n",
    "                        )\n",
    "                        logger.debug(f\"Status Code : {resp.status_code}\")\n",
    "                        if resp.status_code == 200:\n",
    "                            return resp.json()[\"choices\"][0][\"message\"][\"content\"]\n",
    "                        else:\n",
    "                            logger.warning(resp.content)\n",
    "                            keep_loop = False\n",
    "                    except Exception as e:\n",
    "                        logger.error(e)\n",
    "                        counter = counter + 1\n",
    "                        keep_loop = counter < nb_retries\n",
    "    except asyncio.TimeoutError as e:\n",
    "        logger.error(f\"Timeout {delay} seconds !\")\n",
    "    return None"
   ]
  },
  {
   "cell_type": "code",
   "execution_count": null,
   "metadata": {},
   "outputs": [],
   "source": [
    "async def predict(input, history):\n",
    "    \"\"\"\n",
    "    Predict the response of the chatbot and complete a running list of chat history.\n",
    "    \"\"\"\n",
    "    history.append({\"role\": \"user\", \"content\": input})\n",
    "    response = await make_completion(history)\n",
    "    history.append({\"role\": \"assistant\", \"content\": response})\n",
    "    messages = [\n",
    "        (history[i][\"content\"], history[i + 1][\"content\"])\n",
    "        for i in range(0, len(history) - 1, 2)\n",
    "    ]\n",
    "    return messages, history"
   ]
  },
  {
   "cell_type": "code",
   "execution_count": null,
   "metadata": {},
   "outputs": [],
   "source": [
    "with gr.Blocks() as demo:\n",
    "    logger.info(\"Starting Demo...\")\n",
    "    chatbot = gr.Chatbot(label=\"WebGPT\")\n",
    "    state = gr.State([])\n",
    "    with gr.Row():\n",
    "        txt = gr.Textbox(\n",
    "            show_label=False, placeholder=\"Enter text and press enter\"\n",
    "        ).style(container=False)\n",
    "    txt.submit(predict, [txt, state], [chatbot, state])\n",
    "\n",
    "demo.launch(server_port=18080, share=True, server_name=\"0.0.0.0\")"
   ]
  }
 ],
 "metadata": {
  "language_info": {
   "name": "python"
  },
  "orig_nbformat": 4
 },
 "nbformat": 4,
 "nbformat_minor": 2
}
